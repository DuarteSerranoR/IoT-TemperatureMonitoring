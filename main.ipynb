{
 "cells": [
  {
   "cell_type": "code",
   "execution_count": 13,
   "metadata": {},
   "outputs": [],
   "source": [
    "from sklearn.model_selection import train_test_split\n",
    "import numpy as np\n",
    "import pandas as pd\n",
    "\n",
    "from matplotlib import pyplot as plot"
   ]
  },
  {
   "cell_type": "code",
   "execution_count": 14,
   "metadata": {},
   "outputs": [
    {
     "name": "stdout",
     "output_type": "stream",
     "text": [
      "inside\n"
     ]
    },
    {
     "data": {
      "text/html": [
       "<div>\n",
       "<style scoped>\n",
       "    .dataframe tbody tr th:only-of-type {\n",
       "        vertical-align: middle;\n",
       "    }\n",
       "\n",
       "    .dataframe tbody tr th {\n",
       "        vertical-align: top;\n",
       "    }\n",
       "\n",
       "    .dataframe thead th {\n",
       "        text-align: right;\n",
       "    }\n",
       "</style>\n",
       "<table border=\"1\" class=\"dataframe\">\n",
       "  <thead>\n",
       "    <tr style=\"text-align: right;\">\n",
       "      <th></th>\n",
       "      <th>temperature</th>\n",
       "    </tr>\n",
       "    <tr>\n",
       "      <th>date</th>\n",
       "      <th></th>\n",
       "    </tr>\n",
       "  </thead>\n",
       "  <tbody>\n",
       "    <tr>\n",
       "      <th>2018-02-22 00:30:00</th>\n",
       "      <td>22.875</td>\n",
       "    </tr>\n",
       "    <tr>\n",
       "      <th>2018-02-22 01:00:00</th>\n",
       "      <td>22.937</td>\n",
       "    </tr>\n",
       "    <tr>\n",
       "      <th>2018-02-22 01:30:00</th>\n",
       "      <td>23.062</td>\n",
       "    </tr>\n",
       "    <tr>\n",
       "      <th>2018-02-22 02:00:00</th>\n",
       "      <td>23.125</td>\n",
       "    </tr>\n",
       "    <tr>\n",
       "      <th>2018-02-22 02:30:00</th>\n",
       "      <td>23.187</td>\n",
       "    </tr>\n",
       "    <tr>\n",
       "      <th>...</th>\n",
       "      <td>...</td>\n",
       "    </tr>\n",
       "    <tr>\n",
       "      <th>2020-11-30 21:30:00</th>\n",
       "      <td>24.812</td>\n",
       "    </tr>\n",
       "    <tr>\n",
       "      <th>2020-11-30 22:00:00</th>\n",
       "      <td>24.750</td>\n",
       "    </tr>\n",
       "    <tr>\n",
       "      <th>2020-11-30 22:30:00</th>\n",
       "      <td>24.500</td>\n",
       "    </tr>\n",
       "    <tr>\n",
       "      <th>2020-11-30 23:00:00</th>\n",
       "      <td>24.437</td>\n",
       "    </tr>\n",
       "    <tr>\n",
       "      <th>2020-11-30 23:30:00</th>\n",
       "      <td>24.562</td>\n",
       "    </tr>\n",
       "  </tbody>\n",
       "</table>\n",
       "<p>48387 rows × 1 columns</p>\n",
       "</div>"
      ],
      "text/plain": [
       "                     temperature\n",
       "date                            \n",
       "2018-02-22 00:30:00       22.875\n",
       "2018-02-22 01:00:00       22.937\n",
       "2018-02-22 01:30:00       23.062\n",
       "2018-02-22 02:00:00       23.125\n",
       "2018-02-22 02:30:00       23.187\n",
       "...                          ...\n",
       "2020-11-30 21:30:00       24.812\n",
       "2020-11-30 22:00:00       24.750\n",
       "2020-11-30 22:30:00       24.500\n",
       "2020-11-30 23:00:00       24.437\n",
       "2020-11-30 23:30:00       24.562\n",
       "\n",
       "[48387 rows x 1 columns]"
      ]
     },
     "metadata": {},
     "output_type": "display_data"
    }
   ],
   "source": [
    "df = pd.read_csv(\"./data/datasets/historical.data\")\n",
    "df = df.set_index(\"date\").sort_index(ascending=True)\n",
    "#display(df)\n",
    "df_inside = df.loc[df[\"label\"] == \"inside\"].drop([\"label\"], axis=1)\n",
    "df_outside = df.loc[df[\"label\"] == \"outside\"].drop([\"label\"], axis=1)\n",
    "print(\"inside\")\n",
    "display(df_inside)\n",
    "#print(\"outside\")\n",
    "#display(df_outside)"
   ]
  },
  {
   "cell_type": "code",
   "execution_count": 20,
   "metadata": {},
   "outputs": [
    {
     "name": "stdout",
     "output_type": "stream",
     "text": [
      "train\n",
      "[[22.875]\n",
      " [22.937]\n",
      " [23.062]\n",
      " ...\n",
      " [23.437]\n",
      " [23.562]\n",
      " [23.562]]\n",
      "test\n",
      "[[23.375]\n",
      " [23.437]\n",
      " [23.437]\n",
      " ...\n",
      " [23.687]\n",
      " [24.   ]\n",
      " [23.812]]\n",
      "ivs\n",
      "[[24.125]\n",
      " [24.   ]\n",
      " [24.   ]\n",
      " ...\n",
      " [24.5  ]\n",
      " [24.437]\n",
      " [24.562]]\n"
     ]
    }
   ],
   "source": [
    "inside_arr=np.array(df_inside)\n",
    "outside_arr=np.array(df_outside)\n",
    "\n",
    "#print(inside_arr)\n",
    "\n",
    "#train_test_split(inside_arr, shuffle=False)\n",
    "\n",
    "inside_total_len,_=inside_arr.shape\n",
    "\n",
    "train_p = 0.70\n",
    "test_p = 0.15\n",
    "ivs_p = 0.15\n",
    "\n",
    "train_len = round(inside_total_len*train_p)\n",
    "test_len = round(inside_total_len*test_p)\n",
    "ivs_len = round(inside_total_len*ivs_p)\n",
    "\n",
    "model_len = train_len+test_len\n",
    "\n",
    "total_used_len = model_len+ivs_len\n",
    "\n",
    "inside_train = inside_arr[:train_len]\n",
    "inside_test = inside_arr[train_len:model_len]\n",
    "inside_ivs = inside_arr[model_len:total_used_len]\n",
    "\n",
    "print(\"train\")\n",
    "print(inside_train)\n",
    "print(\"test\")\n",
    "print(inside_test)\n",
    "print(\"ivs\")\n",
    "print(inside_ivs)"
   ]
  },
  {
   "cell_type": "code",
   "execution_count": 22,
   "metadata": {},
   "outputs": [
    {
     "name": "stdout",
     "output_type": "stream",
     "text": [
      "Number of Wanted Predictions: 5.0\n"
     ]
    }
   ],
   "source": [
    "# 2h30\n",
    "\n",
    "per_min = (2*60) + 30\n",
    "per_30_mins = per_min / 30\n",
    "\n",
    "print(\"Number of Wanted Predictions: \" + str(per_30_mins))"
   ]
  },
  {
   "cell_type": "markdown",
   "metadata": {},
   "source": [
    "One-step-ahead (auto-regressive)\n",
    "<br>\n",
    "One-step-ahead (auto-regressive with exogenous inputs)\n",
    "<br>\n",
    "Recursive\n",
    "<br>\n",
    "MIMO\n",
    "<br>\n",
    "Direct\n",
    "<br>\n",
    "Hybrid (Recursive and Direct)\n",
    "<br>\n",
    "Hybrid (Direct and MIMO)\n",
    "<br>\n",
    "<br>\n",
    "MIMO is good too, but you would need to comput each steop individually to have a full array of predictions, as the other can execute all predictions concurrently\n",
    "<br>\n",
    "Direct and Hybrid(Direct and MIMO) are on top - they can execute all\n",
    "<br>\n",
    "<br>\n",
    "Hybrid(Direct and MIMO) = [2,2,1] predictive models\n",
    "<br>\n",
    "MIMO = [1,1,1,1,1] predictive models"
   ]
  }
 ],
 "metadata": {
  "kernelspec": {
   "display_name": "Python 3.9.12 ('base')",
   "language": "python",
   "name": "python3"
  },
  "language_info": {
   "codemirror_mode": {
    "name": "ipython",
    "version": 3
   },
   "file_extension": ".py",
   "mimetype": "text/x-python",
   "name": "python",
   "nbconvert_exporter": "python",
   "pygments_lexer": "ipython3",
   "version": "3.9.12"
  },
  "orig_nbformat": 4,
  "vscode": {
   "interpreter": {
    "hash": "055142e5cf66ed8ee87e97d9d29944a505c8696ace08c4c3475747b47f85af0d"
   }
  }
 },
 "nbformat": 4,
 "nbformat_minor": 2
}
